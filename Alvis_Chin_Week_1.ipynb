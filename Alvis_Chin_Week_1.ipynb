{
  "nbformat": 4,
  "nbformat_minor": 0,
  "metadata": {
    "colab": {
      "provenance": [],
      "include_colab_link": true
    },
    "kernelspec": {
      "name": "python3",
      "display_name": "Python 3"
    },
    "language_info": {
      "name": "python"
    }
  },
  "cells": [
    {
      "cell_type": "markdown",
      "metadata": {
        "id": "view-in-github",
        "colab_type": "text"
      },
      "source": [
        "<a href=\"https://colab.research.google.com/github/alvischin/projecteuler/blob/main/Alvis_Chin_Week_1.ipynb\" target=\"_parent\"><img src=\"https://colab.research.google.com/assets/colab-badge.svg\" alt=\"Open In Colab\"/></a>"
      ]
    },
    {
      "cell_type": "code",
      "source": [
        "# Calculate BMI (body mass index)\n",
        "\n",
        "\n",
        "# get weight\n",
        "w = float(input(\"Enter weight in kg:\"))\n",
        "\n",
        "# get height\n",
        "h = float(input(\"Enter height in m:\"))\n",
        "\n",
        "# compute total\n",
        "bmi = w/(h*h)\n",
        "\n",
        "# output bmi\n",
        "print(\"Your BMI is\", bmi, \".\")"
      ],
      "metadata": {
        "colab": {
          "base_uri": "https://localhost:8080/"
        },
        "id": "LcVPCrQWsQBd",
        "outputId": "8bdabd13-5c32-447a-8975-c7258af8eee2"
      },
      "execution_count": null,
      "outputs": [
        {
          "output_type": "stream",
          "name": "stdout",
          "text": [
            "Enter weight in kg:102.2\n",
            "Enter height in m:1.74\n",
            "Your BMI is 33.75611045052187 .\n"
          ]
        }
      ]
    },
    {
      "cell_type": "markdown",
      "source": [
        "Project Euler Problem 1"
      ],
      "metadata": {
        "id": "T1hF5WkQexEp"
      }
    },
    {
      "cell_type": "code",
      "source": [
        "total = sum([i for i in range(1000) if x % 3 == 0 or x % 5 == 0])\n",
        "print(total)\n"
      ],
      "metadata": {
        "colab": {
          "base_uri": "https://localhost:8080/"
        },
        "id": "l_XDSCcX-9Ri",
        "outputId": "da4d32bc-080c-49a5-eb92-085b970a10ae"
      },
      "execution_count": null,
      "outputs": [
        {
          "output_type": "stream",
          "name": "stdout",
          "text": [
            "499500\n"
          ]
        }
      ]
    },
    {
      "cell_type": "markdown",
      "source": [
        "Project Euler Problem 2"
      ],
      "metadata": {
        "id": "sGnbgSbme6vK"
      }
    },
    {
      "cell_type": "code",
      "source": [
        "max = 4000000 #set the last term\n",
        "prev = 1 #set the first term\n",
        "curr = 2 #set the second term\n",
        "sum = 0 #set the initial sum\n",
        "\n",
        "while curr < max: #test for values less than the last term\n",
        "  next = prev + curr\n",
        "  prev = curr\n",
        "  curr = next\n",
        "\n",
        "  if curr % 2 == 0: #test for even number\n",
        "    sum += curr\n",
        "\n",
        "print(\"The sum of the even-valued fibonacci numbers is \" + str(sum) + \".\")"
      ],
      "metadata": {
        "colab": {
          "base_uri": "https://localhost:8080/"
        },
        "id": "CJ9MOjAZj_Yn",
        "outputId": "d9ccbf41-ffd7-43a1-9439-8245a77a9ba7"
      },
      "execution_count": 2,
      "outputs": [
        {
          "output_type": "stream",
          "name": "stdout",
          "text": [
            "The sum of the even-valued fibonacci numbers is 4613730.\n"
          ]
        }
      ]
    }
  ]
}